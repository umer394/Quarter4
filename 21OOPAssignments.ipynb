{
  "nbformat": 4,
  "nbformat_minor": 0,
  "metadata": {
    "colab": {
      "provenance": [],
      "authorship_tag": "ABX9TyNBXwl8ynoM9pthJRK0kODV",
      "include_colab_link": true
    },
    "kernelspec": {
      "name": "python3",
      "display_name": "Python 3"
    },
    "language_info": {
      "name": "python"
    }
  },
  "cells": [
    {
      "cell_type": "markdown",
      "metadata": {
        "id": "view-in-github",
        "colab_type": "text"
      },
      "source": [
        "<a href=\"https://colab.research.google.com/github/umer394/Quarter4/blob/main/21OOPAssignments.ipynb\" target=\"_parent\"><img src=\"https://colab.research.google.com/assets/colab-badge.svg\" alt=\"Open In Colab\"/></a>"
      ]
    },
    {
      "cell_type": "markdown",
      "source": [
        "**1. Using self**"
      ],
      "metadata": {
        "id": "Qs2ifBAzhwt2"
      }
    },
    {
      "cell_type": "markdown",
      "source": [
        "Assignment:\n",
        "Create a class Student with attributes name and marks. Use the self keyword to initialize these values via a constructor. Add a method display() that prints student details."
      ],
      "metadata": {
        "id": "N1a2yumHkX6E"
      }
    },
    {
      "cell_type": "code",
      "execution_count": 1,
      "metadata": {
        "colab": {
          "base_uri": "https://localhost:8080/"
        },
        "id": "pvtL4WeQhr14",
        "outputId": "5c3c61e3-f16b-4b47-eb20-e63e73866e85"
      },
      "outputs": [
        {
          "output_type": "stream",
          "name": "stdout",
          "text": [
            "Name: Ahmed, Marks: 90\n"
          ]
        }
      ],
      "source": [
        "class Student:\n",
        "    def __init__(self,name,marks):\n",
        "        self.name = name\n",
        "        self.marks = marks\n",
        "\n",
        "    def display(self):\n",
        "        return f\"Name: {self.name}, Marks: {self.marks}\"\n",
        "\n",
        "student1 = Student(\"Ahmed\",90)\n",
        "print(student1.display())"
      ]
    },
    {
      "cell_type": "markdown",
      "source": [
        "**2. Using cls**"
      ],
      "metadata": {
        "id": "s38mbyXmi43d"
      }
    },
    {
      "cell_type": "markdown",
      "source": [
        "Assignment:\n",
        "Create a class Counter that keeps track of how many objects have been created. Use a class variable and a class method with cls to manage and display the count.\n",
        "\n"
      ],
      "metadata": {
        "id": "F8J97bmukb58"
      }
    },
    {
      "cell_type": "code",
      "source": [
        "class Counter:\n",
        "  total_objects = 0\n",
        "  @classmethod\n",
        "  def counter(cls):\n",
        "    cls.total_objects +=1\n",
        "    return cls.total_objects\n",
        "\n",
        "one = Counter()\n",
        "print(one.counter())\n",
        "two = Counter()\n",
        "print(two.counter())\n",
        "three = Counter()\n",
        "print(three.counter())"
      ],
      "metadata": {
        "colab": {
          "base_uri": "https://localhost:8080/"
        },
        "id": "r-nhpRK4i7f9",
        "outputId": "80cc559c-8bce-43af-8d63-b9d92932bd74"
      },
      "execution_count": 4,
      "outputs": [
        {
          "output_type": "stream",
          "name": "stdout",
          "text": [
            "1\n",
            "2\n",
            "3\n"
          ]
        }
      ]
    },
    {
      "cell_type": "markdown",
      "source": [
        "**3. Public Variables and Methods**"
      ],
      "metadata": {
        "id": "jEjCnDFIkS8d"
      }
    },
    {
      "cell_type": "markdown",
      "source": [
        "Assignment:\n",
        "Create a class Car with a public variable brand and a public method start(). Instantiate the class and access both from outside the class.\n",
        "\n"
      ],
      "metadata": {
        "id": "MdUb7aj9keak"
      }
    },
    {
      "cell_type": "code",
      "source": [
        "class Car:\n",
        "  def __init__(self,brand):\n",
        "    self.brand = brand\n",
        "\n",
        "  def start(self):\n",
        "    print(f\"The car of {self.brand} has started\")\n",
        "\n",
        "car1 = Car(\"Toyota\")\n",
        "print(car1.brand)\n",
        "car1.start()\n"
      ],
      "metadata": {
        "colab": {
          "base_uri": "https://localhost:8080/"
        },
        "id": "3sxNkHL8jaof",
        "outputId": "4790aa75-09ef-4ff0-9b29-dc50bc573c6f"
      },
      "execution_count": 5,
      "outputs": [
        {
          "output_type": "stream",
          "name": "stdout",
          "text": [
            "Toyota\n",
            "The car of Toyota has started\n"
          ]
        }
      ]
    },
    {
      "cell_type": "markdown",
      "source": [
        "**4. Class Variables and Class Methods**"
      ],
      "metadata": {
        "id": "9_QpSwIWlQ0V"
      }
    },
    {
      "cell_type": "markdown",
      "source": [
        "Assignment:\n",
        "Create a class Bank with a class variable bank_name. Add a class method change_bank_name(cls, name) that allows changing the bank name. Show that it affects all instances.\n",
        "\n"
      ],
      "metadata": {
        "id": "gNW_RNXzlVMF"
      }
    },
    {
      "cell_type": "code",
      "source": [
        "class Bank:\n",
        "  bank_name = \"MyBank\"\n",
        "  @classmethod\n",
        "  def change_bank_name(cls,name):\n",
        "    cls.bank_name = name\n",
        "\n",
        "name1 = Bank()\n",
        "print(name1.bank_name)\n",
        "name1.change_bank_name(\"New Bank\")\n",
        "print(name1.bank_name)"
      ],
      "metadata": {
        "colab": {
          "base_uri": "https://localhost:8080/"
        },
        "id": "Qbd0dGzwlNdG",
        "outputId": "467dae0c-d241-41b5-ccc3-cf07c8fa5094"
      },
      "execution_count": 7,
      "outputs": [
        {
          "output_type": "stream",
          "name": "stdout",
          "text": [
            "MyBank\n",
            "New Bank\n"
          ]
        }
      ]
    },
    {
      "cell_type": "markdown",
      "source": [
        "**5. Static Variables and Static Methods**"
      ],
      "metadata": {
        "id": "tsr2iaXal6Ct"
      }
    },
    {
      "cell_type": "markdown",
      "source": [
        "Assignment:\n",
        "Create a class MathUtils with a static method add(a, b) that returns the sum. No class or instance variables should be used."
      ],
      "metadata": {
        "id": "3UMEAOXQl8sW"
      }
    },
    {
      "cell_type": "code",
      "source": [
        "class MathUtils:\n",
        "  @staticmethod\n",
        "  def add(a,b):\n",
        "    return a+b\n",
        "sum = MathUtils()\n",
        "print(sum.add(2,4))"
      ],
      "metadata": {
        "colab": {
          "base_uri": "https://localhost:8080/"
        },
        "id": "2RLTDo_slz22",
        "outputId": "dc15abe2-f2cd-46c7-ec07-dc55637b88b8"
      },
      "execution_count": 8,
      "outputs": [
        {
          "output_type": "stream",
          "name": "stdout",
          "text": [
            "6\n"
          ]
        }
      ]
    },
    {
      "cell_type": "markdown",
      "source": [
        "**6. Constructors and Destructors**"
      ],
      "metadata": {
        "id": "Rs-OhsHkmTH-"
      }
    },
    {
      "cell_type": "markdown",
      "source": [
        "Assignment:\n",
        "Create a class Logger that prints a message when an object is created (constructor) and another message when it is destroyed (destructor)."
      ],
      "metadata": {
        "id": "avO-PZwbmWZ1"
      }
    },
    {
      "cell_type": "code",
      "source": [
        "class Logger:\n",
        "  def __init__(self):\n",
        "    print(\"Object Created\")\n",
        "  def __del__(self):\n",
        "    print(\"Object destroyed\")\n",
        "object1 = Logger()\n",
        "del object1"
      ],
      "metadata": {
        "colab": {
          "base_uri": "https://localhost:8080/"
        },
        "id": "HmyiQVZMmQv-",
        "outputId": "9ad319e0-1319-4f8c-f9df-1ab8bbf95bd7"
      },
      "execution_count": 11,
      "outputs": [
        {
          "output_type": "stream",
          "name": "stdout",
          "text": [
            "Object Created\n",
            "Object destroyed\n"
          ]
        }
      ]
    },
    {
      "cell_type": "markdown",
      "source": [
        "**7. Access Modifiers: Public, Private, and Protected**"
      ],
      "metadata": {
        "id": "X3tp_4xdp2nU"
      }
    },
    {
      "cell_type": "markdown",
      "source": [
        "Assignment:\n",
        "Create a class Employee with:\n",
        "\n",
        "a public variable name,\n",
        "\n",
        "a protected variable _salary, and\n",
        "\n",
        "a private variable __ssn.\n",
        "\n",
        "Try accessing all three variables from an object of the class and document what happens."
      ],
      "metadata": {
        "id": "1mhkHv1lp6ZD"
      }
    },
    {
      "cell_type": "code",
      "source": [
        "class Employee:\n",
        "  def __init__(self,name,salary,ssn):\n",
        "    self.name = name\n",
        "    self._salary = salary\n",
        "    self.__ssn = ssn\n",
        "\n",
        "employee1 = Employee(\"Ahmed\",10000,123456789)\n",
        "print(employee1.name)\n",
        "print(employee1._salary)\n",
        "# print(employee1.__ssn) Uncomment to see Attribute Error because __ssn is private\n"
      ],
      "metadata": {
        "colab": {
          "base_uri": "https://localhost:8080/"
        },
        "id": "D1n4oFRinWMO",
        "outputId": "fed3da04-46aa-479d-b86d-a6bba9caf76a"
      },
      "execution_count": 14,
      "outputs": [
        {
          "output_type": "stream",
          "name": "stdout",
          "text": [
            "Ahmed\n",
            "10000\n"
          ]
        }
      ]
    },
    {
      "cell_type": "markdown",
      "source": [
        "**8. The super() Function**"
      ],
      "metadata": {
        "id": "76b7mLw9qmZL"
      }
    },
    {
      "cell_type": "markdown",
      "source": [
        "Assignment:\n",
        "Create a class Person with a constructor that sets the name. Inherit a class Teacher from it, add a subject field, and use super() to call the base class constructor.\n",
        "\n"
      ],
      "metadata": {
        "id": "s_eMlMc1qqvz"
      }
    },
    {
      "cell_type": "code",
      "source": [
        "class Person:\n",
        "  def __init__(self,name):\n",
        "    self.name = name\n",
        "\n",
        "class Teacher(Person):\n",
        "  def __init__(self,name,subject):\n",
        "    super().__init__(name)\n",
        "    self.subject = subject\n",
        "\n",
        "teacher1 = Teacher(\"Ahmed\",\"Math\")\n",
        "print(teacher1.name)\n",
        "print(teacher1.subject)"
      ],
      "metadata": {
        "colab": {
          "base_uri": "https://localhost:8080/"
        },
        "id": "YUzBSCt7qTRk",
        "outputId": "454308c9-cb55-44d8-f195-f1578db22842"
      },
      "execution_count": 15,
      "outputs": [
        {
          "output_type": "stream",
          "name": "stdout",
          "text": [
            "Ahmed\n",
            "Math\n"
          ]
        }
      ]
    },
    {
      "cell_type": "markdown",
      "source": [
        "**9. Abstract Classes and Methods**"
      ],
      "metadata": {
        "id": "YUNYtnQDuqvq"
      }
    },
    {
      "cell_type": "markdown",
      "source": [
        "Assignment:\n",
        "Use the abc module to create an abstract class Shape with an abstract method area(). Inherit a class Rectangle that implements area()."
      ],
      "metadata": {
        "id": "85-gGzDGuuf6"
      }
    },
    {
      "cell_type": "code",
      "source": [
        "from abc import ABC,abstractmethod\n",
        "class Shape(ABC):\n",
        "  @abstractmethod\n",
        "  def area(self):\n",
        "    pass\n",
        "\n",
        "class Rectangle(Shape):\n",
        "  def __init__(self,length,width):\n",
        "    self.length = length\n",
        "    self.width = width\n",
        "  def area(self):\n",
        "    return self.length*self.width\n",
        "\n",
        "rectangle1 = Rectangle(4,5)\n",
        "print(rectangle1.area())\n"
      ],
      "metadata": {
        "colab": {
          "base_uri": "https://localhost:8080/"
        },
        "id": "56ObVI8Mqn6b",
        "outputId": "7b13b769-9130-454e-e8b0-31276abf70d5"
      },
      "execution_count": 17,
      "outputs": [
        {
          "output_type": "stream",
          "name": "stdout",
          "text": [
            "20\n"
          ]
        }
      ]
    },
    {
      "cell_type": "markdown",
      "source": [
        "**10. Instance Methods**"
      ],
      "metadata": {
        "id": "ii_OBhIpvfYL"
      }
    },
    {
      "cell_type": "markdown",
      "source": [
        "Assignment:\n",
        "Create a class Dog with instance variables name and breed. Add an instance method bark() that prints a message including the dog's name."
      ],
      "metadata": {
        "id": "M1dRdC5jvhIC"
      }
    },
    {
      "cell_type": "code",
      "source": [
        "class Dog:\n",
        "  def __init__(self,name,breed):\n",
        "    self.name = name\n",
        "    self.breed = breed\n",
        "  def bark(self):\n",
        "    return f\"{self.name} is barking\"\n",
        "\n",
        "dog1 = Dog(\"Buddy\",\"Labrador\")\n",
        "dog1.bark()"
      ],
      "metadata": {
        "colab": {
          "base_uri": "https://localhost:8080/",
          "height": 35
        },
        "id": "bjAlX9_1vX_L",
        "outputId": "89978fe6-240d-4a5a-d409-c14f15e0362a"
      },
      "execution_count": 19,
      "outputs": [
        {
          "output_type": "execute_result",
          "data": {
            "text/plain": [
              "'Buddy is barking'"
            ],
            "application/vnd.google.colaboratory.intrinsic+json": {
              "type": "string"
            }
          },
          "metadata": {},
          "execution_count": 19
        }
      ]
    },
    {
      "cell_type": "markdown",
      "source": [
        "**11. Class Methods**"
      ],
      "metadata": {
        "id": "-wbaWvXCvtlr"
      }
    },
    {
      "cell_type": "markdown",
      "source": [
        "Assignment:\n",
        "Create a class Book with a class variable total_books. Add a class method increment_book_count() to increase the count when a new book is added."
      ],
      "metadata": {
        "id": "rbMxXpWKvw4D"
      }
    },
    {
      "cell_type": "code",
      "source": [
        "class Book:\n",
        "  total_books = 0\n",
        "  @classmethod\n",
        "  def increment_book_count(cls):\n",
        "    cls.total_books +=1\n",
        "    return cls.total_books\n",
        "\n",
        "book1 = Book()\n",
        "print(book1.increment_book_count())\n",
        "book2 = Book()\n",
        "print(book2.increment_book_count())"
      ],
      "metadata": {
        "colab": {
          "base_uri": "https://localhost:8080/"
        },
        "id": "bDo5eEEqvp9J",
        "outputId": "6c357634-b3a5-4903-ca47-dd3d6cf4eb40"
      },
      "execution_count": 20,
      "outputs": [
        {
          "output_type": "stream",
          "name": "stdout",
          "text": [
            "1\n",
            "2\n"
          ]
        }
      ]
    },
    {
      "cell_type": "markdown",
      "source": [
        "**12. Static Methods**"
      ],
      "metadata": {
        "id": "mdnyz6howOba"
      }
    },
    {
      "cell_type": "markdown",
      "source": [
        "Assignment:\n",
        "Create a class TemperatureConverter with a static method celsius_to_fahrenheit(c) that returns the Fahrenheit value."
      ],
      "metadata": {
        "id": "6XMxlHYEwRDC"
      }
    },
    {
      "cell_type": "code",
      "source": [
        "class TemperatureConverter:\n",
        "  @staticmethod\n",
        "  def celcius_to_farenheit(c):\n",
        "    return (c*9/5)+32\n",
        "temp1 = TemperatureConverter()\n",
        "print(temp1.celcius_to_farenheit(30))"
      ],
      "metadata": {
        "colab": {
          "base_uri": "https://localhost:8080/"
        },
        "id": "VNH1PxA6wdVH",
        "outputId": "7f31484f-aab6-45f4-d4c9-b890d1354fc5"
      },
      "execution_count": 21,
      "outputs": [
        {
          "output_type": "stream",
          "name": "stdout",
          "text": [
            "86.0\n"
          ]
        }
      ]
    },
    {
      "cell_type": "markdown",
      "source": [
        "**13. Composition**"
      ],
      "metadata": {
        "id": "tKZQ67wYwxHC"
      }
    },
    {
      "cell_type": "markdown",
      "source": [
        "Assignment:\n",
        "Create a class Engine and a class Car. Use composition by passing an Engine object to the Car class during initialization. Access a method of the Engine class via the Car class.\n",
        "\n"
      ],
      "metadata": {
        "id": "SWssxMlwwzJS"
      }
    },
    {
      "cell_type": "code",
      "source": [
        "class Engine:\n",
        "  def start(self):\n",
        "    return (\"Engine Started\")\n",
        "class Car:\n",
        "  def __init__(self):\n",
        "    self.engine = Engine()\n",
        "  def start(self):\n",
        "\n",
        "    return f\"Car Started: {self.engine.start()}\"\n",
        "engine1 = Engine()\n",
        "car1 = Car()\n",
        "print(car1.start())"
      ],
      "metadata": {
        "colab": {
          "base_uri": "https://localhost:8080/"
        },
        "id": "gyi2eoitv_1T",
        "outputId": "d88fa296-1ef4-47f6-d869-5617ab06bbea"
      },
      "execution_count": 25,
      "outputs": [
        {
          "output_type": "stream",
          "name": "stdout",
          "text": [
            "Car Started: Engine Started\n"
          ]
        }
      ]
    },
    {
      "cell_type": "markdown",
      "source": [
        "**14. Aggregation**"
      ],
      "metadata": {
        "id": "Z0fU1UGUx7nB"
      }
    },
    {
      "cell_type": "markdown",
      "source": [
        "Assignment:\n",
        "Create a class Department and a class Employee. Use aggregation by having a Department object store a reference to an Employee object that exists independently of it."
      ],
      "metadata": {
        "id": "EaM--BEpx9Kx"
      }
    },
    {
      "cell_type": "code",
      "source": [
        "class Employee:\n",
        "  def __init__(self,name):\n",
        "    self.name = name\n",
        "  def display(self):\n",
        "    return self.name\n",
        "class Department:\n",
        "  def __init__(self,name,employee):\n",
        "    self.name = name\n",
        "    self.employee = employee\n",
        "  def display(self):\n",
        "    return f\"Department: {self.name}, Employee: {self.employee.display()}\"\n",
        "\n",
        "employee1 = Employee(\"Ahmed\")\n",
        "department1 = Department(\"IT\",employee1)\n",
        "print(department1.display())\n"
      ],
      "metadata": {
        "colab": {
          "base_uri": "https://localhost:8080/"
        },
        "id": "jQH4vJKjwydy",
        "outputId": "a08bb8bb-badc-42ae-bec5-35b607ca80b7"
      },
      "execution_count": 30,
      "outputs": [
        {
          "output_type": "stream",
          "name": "stdout",
          "text": [
            "Department: IT, Employee: Ahmed\n"
          ]
        }
      ]
    },
    {
      "cell_type": "markdown",
      "source": [
        "**15. Method Resolution Order (MRO) and Diamond Inheritance**"
      ],
      "metadata": {
        "id": "_3kWYjoT015x"
      }
    },
    {
      "cell_type": "markdown",
      "source": [
        "Assignment:\n",
        "Create four classes:\n",
        "\n",
        "A with a method show(),\n",
        "\n",
        "B and C that inherit from A and override show(),\n",
        "\n",
        "D that inherits from both B and C.\n",
        "\n",
        "Create an object of D and call show() to observe MRO."
      ],
      "metadata": {
        "id": "q1x3y7wa04gp"
      }
    },
    {
      "cell_type": "code",
      "source": [
        "class A:\n",
        "  def show(self):\n",
        "    return \"Class A\"\n",
        "class B(A):\n",
        "  def show(self):\n",
        "    return \"Class B\"\n",
        "class C(A):\n",
        "  def show(self):\n",
        "    return \"Class C\"\n",
        "class D(B,C):\n",
        "  def show(self):\n",
        "    return \"Class D\"\n",
        "objD = D()\n",
        "print(objD.show())\n",
        "print(D.mro())"
      ],
      "metadata": {
        "colab": {
          "base_uri": "https://localhost:8080/"
        },
        "id": "fTw_cGL8zqea",
        "outputId": "a68a6194-d63f-45f3-e3f2-aee96b3d708c"
      },
      "execution_count": 32,
      "outputs": [
        {
          "output_type": "stream",
          "name": "stdout",
          "text": [
            "Class D\n",
            "[<class '__main__.D'>, <class '__main__.B'>, <class '__main__.C'>, <class '__main__.A'>, <class 'object'>]\n"
          ]
        }
      ]
    },
    {
      "cell_type": "markdown",
      "source": [
        "**16. Function Decorators**"
      ],
      "metadata": {
        "id": "rP1oiqHp4KjH"
      }
    },
    {
      "cell_type": "markdown",
      "source": [
        "Assignment:\n",
        "Write a decorator function log_function_call that prints \"Function is being called\" before a function executes. Apply it to a function say_hello()."
      ],
      "metadata": {
        "id": "y7GYoszk4NYn"
      }
    },
    {
      "cell_type": "code",
      "source": [
        "def log_function_call(func):\n",
        "    def wrapper():\n",
        "        print(\"Function is being called\")\n",
        "        return func()\n",
        "    return wrapper\n",
        "\n",
        "@log_function_call\n",
        "def say_hello():\n",
        "    print(\"Hello!\")\n",
        "\n",
        "say_hello()"
      ],
      "metadata": {
        "colab": {
          "base_uri": "https://localhost:8080/"
        },
        "id": "92PQZYCk3uzm",
        "outputId": "93d4a921-f04c-4848-9ef1-f7cb19faad08"
      },
      "execution_count": 34,
      "outputs": [
        {
          "output_type": "stream",
          "name": "stdout",
          "text": [
            "Function is being called\n",
            "Hello!\n"
          ]
        }
      ]
    },
    {
      "cell_type": "markdown",
      "source": [
        "**17. Class Decorators**"
      ],
      "metadata": {
        "id": "rCA7YI1Z5wpk"
      }
    },
    {
      "cell_type": "markdown",
      "source": [
        "Assignment:\n",
        "Create a class decorator add_greeting that modifies a class to add a greet() method returning \"Hello from Decorator!\". Apply it to a class Person."
      ],
      "metadata": {
        "id": "ihq2ENp152xK"
      }
    },
    {
      "cell_type": "code",
      "source": [
        "class Greetable:\n",
        "    def greet(self):\n",
        "      pass\n",
        "def add_greeting(cls):\n",
        "  def greet(self):\n",
        "    return \"Hello from Decorator!\"\n",
        "  cls.greet = greet\n",
        "  return cls\n",
        "\n",
        "@add_greeting\n",
        "class Person(Greetable):\n",
        "  def __init__(self):\n",
        "    pass\n",
        "\n",
        "person = Person()\n",
        "print(person.greet())"
      ],
      "metadata": {
        "colab": {
          "base_uri": "https://localhost:8080/"
        },
        "id": "jgcfdJhL5OPi",
        "outputId": "9663d209-9259-498e-fd26-b37b6e3ca5d3"
      },
      "execution_count": 38,
      "outputs": [
        {
          "output_type": "stream",
          "name": "stdout",
          "text": [
            "Hello from Decorator!\n"
          ]
        }
      ]
    },
    {
      "cell_type": "code",
      "source": [],
      "metadata": {
        "id": "i0pfNZdc6qbs"
      },
      "execution_count": null,
      "outputs": []
    }
  ]
}